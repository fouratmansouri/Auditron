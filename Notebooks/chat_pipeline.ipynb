{
 "cells": [
  {
   "cell_type": "markdown",
   "id": "9cfae42b",
   "metadata": {},
   "source": [
    "### About"
   ]
  },
  {
   "cell_type": "markdown",
   "id": "2604dba9",
   "metadata": {},
   "source": [
    "This notebook uses the following frameworks\n",
    "* Langchain\n",
    "\n",
    "* Langgraph"
   ]
  },
  {
   "cell_type": "markdown",
   "id": "5bcc67d5",
   "metadata": {},
   "source": [
    "### 1. Installing dependencies"
   ]
  },
  {
   "cell_type": "code",
   "execution_count": null,
   "id": "f13e14b8",
   "metadata": {
    "scrolled": true
   },
   "outputs": [],
   "source": [
    "!pip install scikit-learn transformers"
   ]
  },
  {
   "cell_type": "code",
   "execution_count": null,
   "id": "0bba39cd",
   "metadata": {},
   "outputs": [],
   "source": [
    "!pip install -qU langchain_community langchain-qdrant langchain_huggingface"
   ]
  },
  {
   "cell_type": "markdown",
   "id": "bba2f29b",
   "metadata": {},
   "source": [
    "### 2. Local models"
   ]
  },
  {
   "cell_type": "markdown",
   "id": "94575916",
   "metadata": {},
   "source": [
    "Loading the embedding model \"sentence-camembert-large\" from hugging face:"
   ]
  },
  {
   "cell_type": "code",
   "execution_count": 12,
   "id": "482de071",
   "metadata": {},
   "outputs": [
    {
     "name": "stderr",
     "output_type": "stream",
     "text": [
      "No sentence-transformers model found with name dangvantuan/sentence-camembert-large. Creating a new one with mean pooling.\n"
     ]
    }
   ],
   "source": [
    "from langchain_huggingface import HuggingFaceEmbeddings\n",
    "\n",
    "embeddings = HuggingFaceEmbeddings(model_name=\"dangvantuan/sentence-camembert-large\")"
   ]
  },
  {
   "cell_type": "code",
   "execution_count": 13,
   "id": "cccb20a9",
   "metadata": {},
   "outputs": [
    {
     "name": "stdout",
     "output_type": "stream",
     "text": [
      "✓ Model loaded with embedding dimension: 1024\n"
     ]
    }
   ],
   "source": [
    "print(f\"✓ Model loaded with embedding dimension: {model.get_sentence_embedding_dimension()}\")"
   ]
  },
  {
   "cell_type": "code",
   "execution_count": 61,
   "id": "64dddf97",
   "metadata": {},
   "outputs": [],
   "source": [
    "### LLM\n",
    "from langchain_ollama import ChatOllama\n",
    "\n",
    "local_llm = \"mistral:7b-instruct\"\n",
    "llm = ChatOllama(model=local_llm, temperature=0)\n",
    "llm_json_mode = ChatOllama(model=local_llm, temperature=0, format=\"json\")"
   ]
  },
  {
   "cell_type": "code",
   "execution_count": 62,
   "id": "34b28bcf",
   "metadata": {},
   "outputs": [
    {
     "data": {
      "text/plain": [
       "AIMessage(content=\" Hello! How can I help you today?\\n\\nIf you have any questions or need assistance with something, feel free to ask. I'm here to help! If you just want to chat, we can talk about anything you like. What would you like to discuss? 😊\", additional_kwargs={}, response_metadata={'model': 'mistral:7b-instruct', 'created_at': '2025-05-02T00:26:47.6947382Z', 'done': True, 'done_reason': 'stop', 'total_duration': 15205913000, 'load_duration': 22249500, 'prompt_eval_count': 6, 'prompt_eval_duration': 724269200, 'eval_count': 59, 'eval_duration': 14456600000, 'model_name': 'mistral:7b-instruct'}, id='run-3726b760-26b8-4fdf-b50e-4407659b8881-0', usage_metadata={'input_tokens': 6, 'output_tokens': 59, 'total_tokens': 65})"
      ]
     },
     "execution_count": 62,
     "metadata": {},
     "output_type": "execute_result"
    }
   ],
   "source": [
    "llm.invoke(\"hi\")"
   ]
  },
  {
   "cell_type": "markdown",
   "id": "cc06eb40",
   "metadata": {},
   "source": [
    "### 3. Vector store"
   ]
  },
  {
   "cell_type": "code",
   "execution_count": 3,
   "id": "42238797",
   "metadata": {},
   "outputs": [],
   "source": [
    "from qdrant_client import QdrantClient\n",
    "\n",
    "qdrant = QdrantClient(url=\"http://localhost:6333\")"
   ]
  },
  {
   "cell_type": "code",
   "execution_count": null,
   "id": "0a15f839",
   "metadata": {},
   "outputs": [],
   "source": [
    "import json\n",
    "import uuid\n",
    "import hashlib\n",
    "from qdrant_client import QdrantClient\n",
    "from qdrant_client.models import PointStruct, VectorParams, Distance\n",
    "\n",
    "# Helper function to convert string IDs to valid UUID-compatible IDs\n",
    "def string_to_uuid(string_id):\n",
    "    \"\"\"Convert a string to a deterministic UUID by hashing it\"\"\"\n",
    "    # Create MD5 hash of the string\n",
    "    hash_object = hashlib.md5(string_id.encode())\n",
    "    # Convert to hex\n",
    "    hex_dig = hash_object.hexdigest()\n",
    "    # Create a UUID from the hex string\n",
    "    return uuid.UUID(hex_dig)"
   ]
  },
  {
   "cell_type": "code",
   "execution_count": null,
   "id": "d3bc03e5",
   "metadata": {},
   "outputs": [],
   "source": [
    "# 4. Load your JSON file\n",
    "try:\n",
    "    with open('output_chunks.json', 'r', encoding='utf-8') as f:\n",
    "        documents = json.load(f)\n",
    "    print(f\"✓ Loaded {len(documents)} documents from output_chunks.json\")\n",
    "except FileNotFoundError:\n",
    "    print(\"Error: output_chunks.json file not found!\")\n",
    "    sys.exit(1)\n",
    "except json.JSONDecodeError:\n",
    "    print(\"Error: Invalid JSON format in output_chunks.json!\")\n",
    "    sys.exit(1)\n",
    "\n",
    "# 5. Create a collection\n",
    "collection_name = \"Auditron_legal_chunks\"\n",
    "print(f\"Creating collection '{collection_name}'...\")\n",
    "qdrant.recreate_collection(\n",
    "    collection_name=collection_name,\n",
    "    vectors_config=VectorParams(size=model.get_sentence_embedding_dimension(), distance=Distance.COSINE),\n",
    ")\n",
    "\n",
    "# 6. Process the documents\n",
    "print(\"Processing documents...\")\n",
    "total_chunks = sum(len(doc.get(\"chunks\", [])) for doc in documents)\n",
    "batch_size = 50\n",
    "processed_count = 0\n",
    "error_count = 0\n",
    "batch_points = []\n",
    "id_mapping = {}  # To store mapping between original IDs and UUID IDs\n",
    "\n",
    "for doc_idx, doc in enumerate(documents):\n",
    "    print(f\"Processing document {doc_idx+1}/{len(documents)}\")\n",
    "    chunks = doc.get(\"chunks\", [])\n",
    "    \n",
    "    for chunk_idx, chunk in enumerate(chunks):\n",
    "        try:\n",
    "            # Extract text and ID\n",
    "            text = chunk.get(\"text\", \"\")\n",
    "            original_id = chunk.get(\"chunk_id\", f\"unknown_{doc_idx}_{chunk_idx}\")\n",
    "            \n",
    "            if not text.strip():  # Skip empty chunks\n",
    "                print(f\"Warning: Empty text in chunk {original_id}\")\n",
    "                continue\n",
    "            \n",
    "            # Clean and truncate text if necessary to avoid index errors\n",
    "            # Some models have maximum input length limitations\n",
    "            max_text_length = 512  # Adjust based on your model's limitations\n",
    "            text = text.strip()[:max_text_length]\n",
    "            \n",
    "            # Convert string ID to UUID\n",
    "            point_id = string_to_uuid(original_id)\n",
    "            \n",
    "            # Save mapping\n",
    "            id_mapping[str(point_id)] = original_id\n",
    "            \n",
    "            # Generate embedding with error handling\n",
    "            try:\n",
    "                embedding = model.encode(text, show_progress_bar=False)\n",
    "            except Exception as embed_error:\n",
    "                print(f\"Embedding error for chunk {original_id}: {str(embed_error)}\")\n",
    "                # Try with a shorter text if it might be a length issue\n",
    "                if len(text) > 200:\n",
    "                    try:\n",
    "                        shorter_text = text[:200]\n",
    "                        print(f\"Retrying with shorter text for {original_id}\")\n",
    "                        embedding = model.encode(shorter_text, show_progress_bar=False)\n",
    "                    except Exception as retry_error:\n",
    "                        print(f\"Still failed with shorter text: {str(retry_error)}\")\n",
    "                        error_count += 1\n",
    "                        continue\n",
    "                else:\n",
    "                    error_count += 1\n",
    "                    continue\n",
    "            \n",
    "            # Create point with UUID\n",
    "            point = PointStruct(\n",
    "                id=str(point_id),\n",
    "                vector=embedding.tolist(),\n",
    "                payload={\n",
    "                    \"text\": text,\n",
    "                    \"original_id\": original_id,  # Keep original ID in payload\n",
    "                    \"structures\": chunk.get(\"structures\", []),\n",
    "                    \"document_path\": chunk.get(\"document_path\", []),\n",
    "                    \"metadata\": chunk.get(\"metadata\", {})\n",
    "                }\n",
    "            )\n",
    "            \n",
    "            # Add to batch\n",
    "            batch_points.append(point)\n",
    "            processed_count += 1\n",
    "            \n",
    "            # If batch is full, upload to Qdrant\n",
    "            if len(batch_points) >= batch_size:\n",
    "                qdrant.upsert(\n",
    "                    collection_name=collection_name,\n",
    "                    points=batch_points,\n",
    "                )\n",
    "                print(f\"Uploaded batch: {processed_count}/{total_chunks} chunks ({error_count} errors so far)\")\n",
    "                batch_points = []\n",
    "                \n",
    "        except Exception as e:\n",
    "            print(f\"Error processing chunk {original_id}: {str(e)}\")\n",
    "            error_count += 1\n",
    "\n",
    "# Upload any remaining points\n",
    "if batch_points:\n",
    "    qdrant.upsert(\n",
    "        collection_name=collection_name,\n",
    "        points=batch_points,\n",
    "    )\n",
    "    print(f\"Uploaded final batch: {processed_count}/{total_chunks} chunks\")\n",
    "\n",
    "# Save ID mapping for reference (optional)\n",
    "try:\n",
    "    with open('id_mapping.json', 'w', encoding='utf-8') as f:\n",
    "        json.dump(id_mapping, f, indent=2)\n",
    "    print(\"✓ Saved ID mapping to id_mapping.json\")\n",
    "except Exception as e:\n",
    "    print(f\"Warning: Could not save ID mapping: {str(e)}\")\n",
    "\n",
    "print(f\"✅ Successfully processed {processed_count}/{total_chunks} chunks into Qdrant collection '{collection_name}'!\")\n",
    "print(f\"Total errors encountered: {error_count}\")"
   ]
  },
  {
   "cell_type": "markdown",
   "id": "9fa01f5b",
   "metadata": {},
   "source": [
    "### 4. Retrieving"
   ]
  },
  {
   "cell_type": "code",
   "execution_count": 37,
   "id": "2076bd71",
   "metadata": {},
   "outputs": [
    {
     "name": "stdout",
     "output_type": "stream",
     "text": [
      "Pour la retenue à la source au titre des revenus de capitaux mobiliers L’article 17 de la loi n°2020-46 du 23 décembre 2020 portant loi de finances pour l'année 2021 a révisé le régime fiscal des revenus de capitaux mobiliers, et ce, par la généralisation de l'application de la retenue à la source libératoire au taux de 20% à tous les revenus de capitaux mobiliers. Ladite retenue à la source est définitive et non susceptible de déduction ou de restitution, et ce, nonobstant le régime fiscal et le résultat q\n",
      "{'doc_type': 'notes_communes', 'doc_year': 2022, 'doc_title': 'note_commune_01_2022', 'doc_language': 'fr', 'token_count': 247, 'source_url': 'https://jibaya.tn/wp-content/uploads/2024/02/Note-Commune-N%C2%B001-1.pdf', '_id': '2f29e3bf-69cb-9211-4d32-ca2a1d5e5554', '_collection_name': 'Auditron_legal_chunks'}\n",
      "Pour la retenue à la source Suite à l'augmentation du taux de l'impôt sur les sociétés de 15% à 20%, les taux de retenue à la source dus au titre des opérations de cession par les personnes morales non résidentes non établies en Tunisie de biens immobiliers situés en Tunisie ou de droits y afférents, ou de droits sociaux dans les sociétés civiles immobilières, ainsi que de titres ou droits y afférents ou de leur rétrocession, réalisés en Tunisie, ont été adaptés par leur augmentation de: 10% à 15% pour le p\n",
      "{'doc_type': 'notes_communes', 'doc_year': 2025, 'doc_title': 'note_commune_08_2025', 'doc_language': 'ar', 'token_count': 148, 'source_url': 'https://jibaya.tn/wp-content/uploads/2025/03/مذكرة-عامة-عدد-08.pdf', '_id': '7dadec26-02a3-a8ed-56b8-1795852c61a1', '_collection_name': 'Auditron_legal_chunks'}\n",
      "10%(1) au titre des honoraires, commissions, courtages, loyers et rémunérations des activités non commerciales qu’elle qu’en soit l’appellation payés par l’Etat, les collectivités locales, les personnes morales ainsi que les personnes physiques soumises à l’impôt sur le revenu selon le régime réel et les personnes visées au paragraphe II de l’article 22 du présent code. (Modifié Art 69-1 LF 2004-90 du 31/12/2004, Art.45-1 LF 2012-27 du 29/12/2012 et Art 14-5 LF 2020-46 du 23/12/2020). (1) Ce taux s’applique\n",
      "{'doc_type': 'receuil', 'doc_year': 2021, 'doc_title': 'Code_de_limpot_sur_le_revenu_des_personnes_physiques_et_de_limpot_sur_les_societes_2021', 'doc_language': 'fr', 'token_count': 111, 'source_url': 'https://jibaya.tn/wp-content/uploads/2024/01/Code-de-limpot-sur-le-revenu-des-personnes-physiques-et-de-limpot-sur-les-societes-2021.pdf', '_id': 'e819ee75-2b0d-317b-834a-76745f5460d9', '_collection_name': 'Auditron_legal_chunks'}\n",
      "10%(1) au titre des honoraires, commissions, courtages, loyers et rémunérations des activités non commerciales qu’elle qu’en soit l’appellation payés par l’Etat, les collectivités locales, les personnes morales ainsi que les personnes physiques soumises à l’impôt sur le revenu selon le régime réel et les personnes visées au paragraphe II de l’article 22 du présent code. (Modifié Art 69-1 LF 2004-90 du 31/12/2004, Art.45-1 LF 2012-27 du 29/12/2012 et Art 14-5 LF 2020-46 du 23/12/2020). Le taux de 10%(1) s’ap\n",
      "{'doc_type': 'receuil', 'doc_year': 2022, 'doc_title': 'Code_de_limpot_sur_le_revenu_des_personnes_physiques_et_de_limpot_sur_les_societes_2022', 'doc_language': 'fr', 'token_count': 97, 'source_url': 'https://jibaya.tn/wp-content/uploads/2024/01/Code-de-limpot-sur-le-Revenu-des-Personnes-Physiques-et-de-limpot-sur-les-Societes-2022.pdf', '_id': 'ed9bd428-c211-c956-9dc2-9c836f33146c', '_collection_name': 'Auditron_legal_chunks'}\n",
      "b- Les retenues à la source b-1- Les retenues à la source concernées par la réduction L’article 14 de la loi de finances pour l’année 2021 a réduit certains taux de retenue à la source, et ce, comme suit - de 15% à 10% pour les commissions, les courtages et les loyers ainsi que les rémunérations des activités non commerciales qu’elle qu’en soit l’appellation et les rémunérations payées en contrepartie de la performance dans la prestation des services pour le compte d’autrui payés aux personnes physiques sou\n",
      "{'doc_type': 'notes_communes', 'doc_year': 2021, 'doc_title': 'note_commune_09_2021', 'doc_language': 'fr', 'token_count': 212, 'source_url': 'https://jibaya.tn/wp-content/uploads/2024/02/Note-Commune-n%C2%B09-1.pdf', '_id': 'fd994ab9-9572-a083-e89f-50c20f5ab557', '_collection_name': 'Auditron_legal_chunks'}\n"
     ]
    }
   ],
   "source": [
    "from langchain_qdrant import QdrantVectorStore\n",
    "from qdrant_client import QdrantClient\n",
    "from qdrant_client.http.models import SearchParams\n",
    "from langchain_core.embeddings import Embeddings\n",
    "\n",
    "# 3. Create the vector store with LangChain\n",
    "vector_store = QdrantVectorStore(\n",
    "    client=qdrant,\n",
    "    collection_name=\"Auditron_legal_chunks\",  # Your collection name\n",
    "    content_payload_key=\"text\", \n",
    "    embedding=embeddings,\n",
    ")\n",
    "#    search_params=SearchParams(hnsw_ef=128)  # Your search params\n",
    "# 4. Create the retriever from the vector store\n",
    "retriever = vector_store.as_retriever(search_kwargs={\"k\": 5})\n",
    "\n",
    "# 5. Use the retriever\n",
    "query = \"Quel est le nouveau taux unifié de retenue à la source applicable aux loyers, rémunérations non commerciales, honoraires et commissions en Tunisie depuis l'adoption de la loi N° 2020-46 du 23 décembre 2020?\"\n",
    "documents = retriever.invoke(query)\n",
    "\n",
    "# The retrieved documents will include content and metadata\n",
    "for doc in documents:\n",
    "    print(doc.page_content)  # Access the content\n",
    "    print(doc.metadata)      # Access the metadata"
   ]
  },
  {
   "cell_type": "markdown",
   "id": "4b7780c0",
   "metadata": {},
   "source": [
    "### Document re-ranking"
   ]
  },
  {
   "cell_type": "code",
   "execution_count": 55,
   "id": "36d19070",
   "metadata": {},
   "outputs": [
    {
     "data": {
      "text/plain": [
       "{'binary_score': 'non'}"
      ]
     },
     "execution_count": 55,
     "metadata": {},
     "output_type": "execute_result"
    }
   ],
   "source": [
    "import json\n",
    "from langchain_core.messages import HumanMessage, SystemMessage\n",
    "\n",
    "### Retrieval Grader\n",
    "\n",
    "# Doc grader instructions\n",
    "doc_grader_instructions = \"\"\"Vous êtes un modèle chargé d’évaluer la pertinence d’un document récupéré par rapport à une question utilisateur.\n",
    "\n",
    "Si le document contient des mots-clés ou un sens sémantique lié à la question, considérez-le comme pertinent.\"\"\"\n",
    "\n",
    "# Grader prompt\n",
    "doc_grader_prompt = \"\"\"Voici le document récupéré : \\n\\n {document} \\n\\n Voici la question de l'utilisateur : \\n\\n {question}.\n",
    "\n",
    "Évaluez soigneusement et objectivement si le document contient au moins une information pertinente en lien avec la question.\n",
    "\n",
    "Retournez un JSON avec une clé unique, binary_score, qui sera 'oui' ou 'non' pour indiquer si le document contient au moins une information pertinente pour la question.\"\"\"\n",
    "# Test\n",
    "question = \"Quel est le nouveau taux unifié de retenue à la source applicable aux loyers, rémunérations non commerciales, honoraires et commissions en Tunisie depuis l'adoption de la loi N° 2020-46 du 23 décembre 2020?\"\n",
    "\n",
    "docs = retriever.invoke(question)\n",
    "doc_txt = docs[0].page_content\n",
    "\n",
    "doc_grader_prompt_formatted = doc_grader_prompt.format(\n",
    "    document=doc_txt, question=question\n",
    ")\n",
    "result = llm_json_mode.invoke(\n",
    "    [SystemMessage(content=doc_grader_instructions)]\n",
    "    + [HumanMessage(content=doc_grader_prompt_formatted)]\n",
    ")\n",
    "json.loads(result.content)"
   ]
  },
  {
   "cell_type": "code",
   "execution_count": 56,
   "id": "3cad2dc1",
   "metadata": {},
   "outputs": [
    {
     "data": {
      "text/plain": [
       "\"Pour la retenue à la source au titre des revenus de capitaux mobiliers L’article 17 de la loi n°2020-46 du 23 décembre 2020 portant loi de finances pour l'année 2021 a révisé le régime fiscal des revenus de capitaux mobiliers, et ce, par la généralisation de l'application de la retenue à la source libératoire au taux de 20% à tous les revenus de capitaux mobiliers. Ladite retenue à la source est définitive et non susceptible de déduction ou de restitution, et ce, nonobstant le régime fiscal et le résultat q\""
      ]
     },
     "execution_count": 56,
     "metadata": {},
     "output_type": "execute_result"
    }
   ],
   "source": [
    "doc_txt"
   ]
  },
  {
   "cell_type": "code",
   "execution_count": 49,
   "id": "92e749dc",
   "metadata": {},
   "outputs": [
    {
     "data": {
      "text/plain": [
       "{'binary_score': 'oui'}"
      ]
     },
     "execution_count": 49,
     "metadata": {},
     "output_type": "execute_result"
    }
   ],
   "source": [
    "docs = retriever.invoke(question)\n",
    "doc_txt = docs[2].page_content\n",
    "\n",
    "doc_grader_prompt_formatted = doc_grader_prompt.format(\n",
    "    document=doc_txt, question=question\n",
    ")\n",
    "result = llm_json_mode.invoke(\n",
    "    [SystemMessage(content=doc_grader_instructions)]\n",
    "    + [HumanMessage(content=doc_grader_prompt_formatted)]\n",
    ")\n",
    "json.loads(result.content)"
   ]
  },
  {
   "cell_type": "code",
   "execution_count": 50,
   "id": "c21f6ba2",
   "metadata": {},
   "outputs": [
    {
     "data": {
      "text/plain": [
       "'10%(1) au titre des honoraires, commissions, courtages, loyers et rémunérations des activités non commerciales qu’elle qu’en soit l’appellation payés par l’Etat, les collectivités locales, les personnes morales ainsi que les personnes physiques soumises à l’impôt sur le revenu selon le régime réel et les personnes visées au paragraphe II de l’article 22 du présent code. (Modifié Art 69-1 LF 2004-90 du 31/12/2004, Art.45-1 LF 2012-27 du 29/12/2012 et Art 14-5 LF 2020-46 du 23/12/2020). (1) Ce taux s’applique'"
      ]
     },
     "execution_count": 50,
     "metadata": {},
     "output_type": "execute_result"
    }
   ],
   "source": [
    "doc_txt"
   ]
  },
  {
   "cell_type": "markdown",
   "id": "cd3e18a2",
   "metadata": {},
   "source": [
    "### 5. Generation"
   ]
  },
  {
   "cell_type": "code",
   "execution_count": 58,
   "id": "efc2362e",
   "metadata": {},
   "outputs": [
    {
     "name": "stdout",
     "output_type": "stream",
     "text": [
      " Le nouveau taux unifié de retenue à la source applicable aux loyers, rémunérations non commerciales, honoraires et commissions en Tunisie est de 20%.\n"
     ]
    }
   ],
   "source": [
    "### Generate\n",
    "\n",
    "# Prompt\n",
    "rag_prompt = \"\"\"Vous êtes un assistant pour des tâches de question-réponse.\n",
    "\n",
    "Voici le contexte à utiliser pour répondre à la question :\n",
    "\n",
    "{context}\n",
    "\n",
    "Réfléchissez soigneusement au contexte ci-dessus.\n",
    "\n",
    "Maintenant, examinez la question de l'utilisateur :\n",
    "\n",
    "{question}\n",
    "\n",
    "Fournissez une réponse à cette question en utilisant uniquement le contexte ci-dessus.\n",
    "\n",
    "Utilisez un maximum de trois phrases et gardez la réponse concise.\n",
    "\n",
    "Réponse :\"\"\"\n",
    "\n",
    "# Post-processing\n",
    "def format_docs(docs):\n",
    "    return \"\\n\\n\".join(doc.page_content for doc in docs)\n",
    "\n",
    "\n",
    "# Test\n",
    "docs = retriever.invoke(question)\n",
    "docs_txt = format_docs(docs)\n",
    "rag_prompt_formatted = rag_prompt.format(context=docs_txt, question=question)\n",
    "generation = llm.invoke([HumanMessage(content=rag_prompt_formatted)])\n",
    "print(generation.content)\n"
   ]
  },
  {
   "cell_type": "markdown",
   "id": "b8d682cc",
   "metadata": {},
   "source": [
    "Hallucination grader:"
   ]
  },
  {
   "cell_type": "code",
   "execution_count": 57,
   "id": "0a8372b3",
   "metadata": {},
   "outputs": [
    {
     "data": {
      "text/plain": [
       "{'binary_score': 'oui',\n",
       " 'explanation': \"La réponse de l'élève est correcte car elle indique que le nouveau taux unifié de retenue à la source applicable aux loyers, rémunérations non commerciales, honoraires et commissions en Tunisie est de 10%. Cette information est bien fondée sur les faits fournis qui mentionnent que le taux de retenue à la source a été généralisé à 10% pour ces catégories de revenus par l'article 14-5 LF 2020-46 du 23 décembre 2020.\"}"
      ]
     },
     "execution_count": 57,
     "metadata": {},
     "output_type": "execute_result"
    }
   ],
   "source": [
    "### Hallucination Grader\n",
    "\n",
    "# Hallucination grader instructions\n",
    "hallucination_grader_instructions = \"\"\"\n",
    "\n",
    "Vous êtes un enseignant en train de corriger un quiz.\n",
    "\n",
    "Vous recevrez des FAITS et une RÉPONSE D'ÉLÈVE.\n",
    "\n",
    "Voici les critères de notation à suivre :\n",
    "\n",
    "(1) Assurez-vous que la RÉPONSE DE L'ÉLÈVE est bien fondée sur les FAITS.\n",
    "\n",
    "(2) Assurez-vous que la RÉPONSE DE L'ÉLÈVE ne contient pas d'informations « hallucinées » qui sortent du cadre des FAITS.\n",
    "\n",
    "Note :\n",
    "\n",
    "Une note de oui signifie que la réponse de l'élève respecte tous les critères. C’est la note la plus élevée (meilleure).\n",
    "\n",
    "Une note de non signifie que la réponse de l'élève ne respecte pas tous les critères. C’est la note la plus basse que vous pouvez attribuer.\n",
    "\n",
    "Expliquez votre raisonnement étape par étape afin de garantir la justesse de votre raisonnement et de votre conclusion.\n",
    "\n",
    "Évitez d’énoncer directement la bonne réponse dès le départ.\n",
    "\"\"\"\n",
    "\n",
    "\n",
    "# Grader prompt\n",
    "hallucination_grader_prompt = \"\"\"FAITS : \\n\\n {documents} \\n\\n RÉPONSE DE L'ÉLÈVE : {generation}.\n",
    "\n",
    "Retournez un JSON avec deux clés :  \n",
    "- binary_score : une valeur 'oui' ou 'non' indiquant si la RÉPONSE DE L'ÉLÈVE est bien fondée sur les FAITS.  \n",
    "- explanation : une explication justifiant la note attribuée.\n",
    "\"\"\"\n",
    "\n",
    "# Test using documents and generation from above\n",
    "hallucination_grader_prompt_formatted = hallucination_grader_prompt.format(\n",
    "    documents=docs_txt, generation=generation.content\n",
    ")\n",
    "result = llm_json_mode.invoke(\n",
    "    [SystemMessage(content=hallucination_grader_instructions)]\n",
    "    + [HumanMessage(content=hallucination_grader_prompt_formatted)]\n",
    ")\n",
    "json.loads(result.content)"
   ]
  },
  {
   "cell_type": "markdown",
   "id": "46427e26",
   "metadata": {},
   "source": [
    "Answer grader"
   ]
  },
  {
   "cell_type": "code",
   "execution_count": 60,
   "id": "a430060f",
   "metadata": {},
   "outputs": [
    {
     "data": {
      "text/plain": [
       "{'binary_score': 'oui',\n",
       " 'explanation': \"La réponse de l'élève est correcte car elle indique le nouveau taux unifié de retenue à la source applicable aux loyers, rémunérations non commerciales, honoraires et commissions en Tunisie depuis l'adoption de la loi N° 2020-46 du 23 décembre 2020. Elle respecte tous les critères demandés.\"}"
      ]
     },
     "execution_count": 60,
     "metadata": {},
     "output_type": "execute_result"
    }
   ],
   "source": [
    "### Answer Grader\n",
    "\n",
    "# Answer grader instructions\n",
    "answer_grader_instructions = \"\"\"Vous êtes un enseignant en train de corriger un quiz.\n",
    "\n",
    "Vous recevrez une QUESTION et une RÉPONSE D'ÉLÈVE.\n",
    "\n",
    "Voici les critères de notation à suivre :\n",
    "\n",
    "(1) La RÉPONSE DE L'ÉLÈVE aide à répondre à la QUESTION.\n",
    "\n",
    "Note :\n",
    "\n",
    "Une note de oui signifie que la réponse de l'élève respecte tous les critères. C’est la note la plus élevée (meilleure).\n",
    "\n",
    "L’élève peut recevoir une note de oui même si la réponse contient des informations supplémentaires qui ne sont pas explicitement demandées dans la question.\n",
    "\n",
    "Une note de non signifie que la réponse de l'élève ne respecte pas tous les critères. C’est la note la plus basse que vous pouvez attribuer.\n",
    "\n",
    "Expliquez votre raisonnement étape par étape afin de garantir la justesse de votre raisonnement et de votre conclusion.\n",
    "\n",
    "Évitez d’énoncer directement la bonne réponse dès le départ.\n",
    "\"\"\"\n",
    "\n",
    "# Grader prompt\n",
    "answer_grader_prompt = \"\"\"QUESTION : \\n\\n {question} \\n\\n RÉPONSE DE L'ÉLÈVE : {generation}.\n",
    "\n",
    "Retournez un JSON avec deux clés :  \n",
    "- binary_score : une valeur 'oui' ou 'non' indiquant si la RÉPONSE DE L'ÉLÈVE respecte les critères.  \n",
    "- explanation : une explication justifiant la note attribuée.\n",
    "\"\"\"\n",
    "\n",
    "\n",
    "# Test\n",
    "answer = generation.content\n",
    "\n",
    "# Test using question and generation from above\n",
    "answer_grader_prompt_formatted = answer_grader_prompt.format(\n",
    "    question=question, generation=answer\n",
    ")\n",
    "result = llm_json_mode.invoke(\n",
    "    [SystemMessage(content=answer_grader_instructions)]\n",
    "    + [HumanMessage(content=answer_grader_prompt_formatted)]\n",
    ")\n",
    "json.loads(result.content)"
   ]
  },
  {
   "cell_type": "markdown",
   "id": "462d410f",
   "metadata": {},
   "source": [
    "### 6. ChatAgent with LangGraph"
   ]
  },
  {
   "cell_type": "code",
   "execution_count": null,
   "id": "1f01b167",
   "metadata": {},
   "outputs": [],
   "source": []
  }
 ],
 "metadata": {
  "kernelspec": {
   "display_name": "auditron_venv",
   "language": "python",
   "name": "auditron_venv"
  },
  "language_info": {
   "codemirror_mode": {
    "name": "ipython",
    "version": 3
   },
   "file_extension": ".py",
   "mimetype": "text/x-python",
   "name": "python",
   "nbconvert_exporter": "python",
   "pygments_lexer": "ipython3",
   "version": "3.11.4"
  }
 },
 "nbformat": 4,
 "nbformat_minor": 5
}
