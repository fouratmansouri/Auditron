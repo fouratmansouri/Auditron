{
 "cells": [
  {
   "cell_type": "markdown",
   "id": "9cfae42b",
   "metadata": {},
   "source": [
    "### About"
   ]
  },
  {
   "cell_type": "markdown",
   "id": "2604dba9",
   "metadata": {},
   "source": [
    "This notebook uses the following frameworks\n",
    "* Langchain\n",
    "\n",
    "* Langgraph"
   ]
  },
  {
   "cell_type": "markdown",
   "id": "5bcc67d5",
   "metadata": {},
   "source": [
    "### 1. Installing dependencies"
   ]
  },
  {
   "cell_type": "code",
   "execution_count": null,
   "id": "f13e14b8",
   "metadata": {
    "scrolled": true
   },
   "outputs": [],
   "source": [
    "!pip install scikit-learn transformers"
   ]
  },
  {
   "cell_type": "code",
   "execution_count": null,
   "id": "0bba39cd",
   "metadata": {},
   "outputs": [],
   "source": [
    "!pip install -qU langchain_community langchain-qdrant langchain_huggingface"
   ]
  },
  {
   "cell_type": "code",
   "execution_count": 14,
   "id": "3808660e",
   "metadata": {},
   "outputs": [
    {
     "name": "stdout",
     "output_type": "stream",
     "text": [
      "Collecting rank_bm25\n",
      "  Obtaining dependency information for rank_bm25 from https://files.pythonhosted.org/packages/2a/21/f691fb2613100a62b3fa91e9988c991e9ca5b89ea31c0d3152a3210344f9/rank_bm25-0.2.2-py3-none-any.whl.metadata\n",
      "  Downloading rank_bm25-0.2.2-py3-none-any.whl.metadata (3.2 kB)\n",
      "Requirement already satisfied: numpy in c:\\users\\foura\\anaconda3\\lib\\site-packages (from rank_bm25) (1.26.4)\n",
      "Downloading rank_bm25-0.2.2-py3-none-any.whl (8.6 kB)\n",
      "Installing collected packages: rank_bm25\n",
      "Successfully installed rank_bm25-0.2.2\n"
     ]
    }
   ],
   "source": [
    "!pip install rank_bm25"
   ]
  },
  {
   "cell_type": "markdown",
   "id": "bba2f29b",
   "metadata": {},
   "source": [
    "### 2. Local models"
   ]
  },
  {
   "cell_type": "markdown",
   "id": "94575916",
   "metadata": {},
   "source": [
    "Loading the embedding model \"sentence-camembert-large\" from hugging face:"
   ]
  },
  {
   "cell_type": "code",
   "execution_count": 1,
   "id": "482de071",
   "metadata": {},
   "outputs": [
    {
     "name": "stdout",
     "output_type": "stream",
     "text": [
      "WARNING:tensorflow:From C:\\Users\\foura\\anaconda3\\Lib\\site-packages\\keras\\src\\losses.py:2976: The name tf.losses.sparse_softmax_cross_entropy is deprecated. Please use tf.compat.v1.losses.sparse_softmax_cross_entropy instead.\n",
      "\n"
     ]
    },
    {
     "name": "stderr",
     "output_type": "stream",
     "text": [
      "No sentence-transformers model found with name dangvantuan/sentence-camembert-large. Creating a new one with mean pooling.\n"
     ]
    }
   ],
   "source": [
    "from langchain_huggingface import HuggingFaceEmbeddings\n",
    "\n",
    "embeddings = HuggingFaceEmbeddings(model_name=\"dangvantuan/sentence-camembert-large\")"
   ]
  },
  {
   "cell_type": "code",
   "execution_count": 6,
   "id": "64dddf97",
   "metadata": {},
   "outputs": [],
   "source": [
    "### LLM\n",
    "from langchain_ollama import ChatOllama\n",
    "\n",
    "local_llm = \"mistral:7b-instruct\"\n",
    "llm = ChatOllama(model=local_llm, temperature=0)\n",
    "llm_json_mode = ChatOllama(model=local_llm, temperature=0, format=\"json\")"
   ]
  },
  {
   "cell_type": "code",
   "execution_count": 7,
   "id": "34b28bcf",
   "metadata": {},
   "outputs": [
    {
     "data": {
      "text/plain": [
       "AIMessage(content=\" Hello! How can I help you today?\\n\\nIf you have any questions or need assistance with something, feel free to ask. I'm here to help! If you just want to chat, we can talk about anything you like. What would you like to discuss? 😊\", additional_kwargs={}, response_metadata={'model': 'mistral:7b-instruct', 'created_at': '2025-05-03T18:10:13.2134054Z', 'done': True, 'done_reason': 'stop', 'total_duration': 24712054300, 'load_duration': 8617977900, 'prompt_eval_count': 6, 'prompt_eval_duration': 2413159300, 'eval_count': 59, 'eval_duration': 13669421600, 'model_name': 'mistral:7b-instruct'}, id='run-c937bcd0-807c-44a6-a419-04a2b87f36f5-0', usage_metadata={'input_tokens': 6, 'output_tokens': 59, 'total_tokens': 65})"
      ]
     },
     "execution_count": 7,
     "metadata": {},
     "output_type": "execute_result"
    }
   ],
   "source": [
    "llm.invoke(\"hi\")"
   ]
  },
  {
   "cell_type": "markdown",
   "id": "cc06eb40",
   "metadata": {},
   "source": [
    "### 3. Vector store"
   ]
  },
  {
   "cell_type": "code",
   "execution_count": 8,
   "id": "42238797",
   "metadata": {},
   "outputs": [],
   "source": [
    "from qdrant_client import QdrantClient\n",
    "\n",
    "qdrant = QdrantClient(url=\"http://localhost:6333\")"
   ]
  },
  {
   "cell_type": "code",
   "execution_count": null,
   "id": "0a15f839",
   "metadata": {},
   "outputs": [],
   "source": [
    "import json\n",
    "import uuid\n",
    "import hashlib\n",
    "from qdrant_client import QdrantClient\n",
    "from qdrant_client.models import PointStruct, VectorParams, Distance\n",
    "\n",
    "# Helper function to convert string IDs to valid UUID-compatible IDs\n",
    "def string_to_uuid(string_id):\n",
    "    \"\"\"Convert a string to a deterministic UUID by hashing it\"\"\"\n",
    "    # Create MD5 hash of the string\n",
    "    hash_object = hashlib.md5(string_id.encode())\n",
    "    # Convert to hex\n",
    "    hex_dig = hash_object.hexdigest()\n",
    "    # Create a UUID from the hex string\n",
    "    return uuid.UUID(hex_dig)"
   ]
  },
  {
   "cell_type": "code",
   "execution_count": null,
   "id": "d3bc03e5",
   "metadata": {},
   "outputs": [],
   "source": [
    "# 4. Load your JSON file\n",
    "try:\n",
    "    with open('output_chunks.json', 'r', encoding='utf-8') as f:\n",
    "        documents = json.load(f)\n",
    "    print(f\"✓ Loaded {len(documents)} documents from output_chunks.json\")\n",
    "except FileNotFoundError:\n",
    "    print(\"Error: output_chunks.json file not found!\")\n",
    "    sys.exit(1)\n",
    "except json.JSONDecodeError:\n",
    "    print(\"Error: Invalid JSON format in output_chunks.json!\")\n",
    "    sys.exit(1)\n",
    "\n",
    "# 5. Create a collection\n",
    "collection_name = \"Auditron_legal_chunks\"\n",
    "print(f\"Creating collection '{collection_name}'...\")\n",
    "qdrant.recreate_collection(\n",
    "    collection_name=collection_name,\n",
    "    vectors_config=VectorParams(size=model.get_sentence_embedding_dimension(), distance=Distance.COSINE),\n",
    ")\n",
    "\n",
    "# 6. Process the documents\n",
    "print(\"Processing documents...\")\n",
    "total_chunks = sum(len(doc.get(\"chunks\", [])) for doc in documents)\n",
    "batch_size = 50\n",
    "processed_count = 0\n",
    "error_count = 0\n",
    "batch_points = []\n",
    "id_mapping = {}  # To store mapping between original IDs and UUID IDs\n",
    "\n",
    "for doc_idx, doc in enumerate(documents):\n",
    "    print(f\"Processing document {doc_idx+1}/{len(documents)}\")\n",
    "    chunks = doc.get(\"chunks\", [])\n",
    "    \n",
    "    for chunk_idx, chunk in enumerate(chunks):\n",
    "        try:\n",
    "            # Extract text and ID\n",
    "            text = chunk.get(\"text\", \"\")\n",
    "            original_id = chunk.get(\"chunk_id\", f\"unknown_{doc_idx}_{chunk_idx}\")\n",
    "            \n",
    "            if not text.strip():  # Skip empty chunks\n",
    "                print(f\"Warning: Empty text in chunk {original_id}\")\n",
    "                continue\n",
    "            \n",
    "            # Clean and truncate text if necessary to avoid index errors\n",
    "            # Some models have maximum input length limitations\n",
    "            max_text_length = 512  # Adjust based on your model's limitations\n",
    "            text = text.strip()[:max_text_length]\n",
    "            \n",
    "            # Convert string ID to UUID\n",
    "            point_id = string_to_uuid(original_id)\n",
    "            \n",
    "            # Save mapping\n",
    "            id_mapping[str(point_id)] = original_id\n",
    "            \n",
    "            # Generate embedding with error handling\n",
    "            try:\n",
    "                embedding = model.encode(text, show_progress_bar=False)\n",
    "            except Exception as embed_error:\n",
    "                print(f\"Embedding error for chunk {original_id}: {str(embed_error)}\")\n",
    "                # Try with a shorter text if it might be a length issue\n",
    "                if len(text) > 200:\n",
    "                    try:\n",
    "                        shorter_text = text[:200]\n",
    "                        print(f\"Retrying with shorter text for {original_id}\")\n",
    "                        embedding = model.encode(shorter_text, show_progress_bar=False)\n",
    "                    except Exception as retry_error:\n",
    "                        print(f\"Still failed with shorter text: {str(retry_error)}\")\n",
    "                        error_count += 1\n",
    "                        continue\n",
    "                else:\n",
    "                    error_count += 1\n",
    "                    continue\n",
    "            \n",
    "            # Create point with UUID\n",
    "            point = PointStruct(\n",
    "                id=str(point_id),\n",
    "                vector=embedding.tolist(),\n",
    "                payload={\n",
    "                    \"text\": text,\n",
    "                    \"original_id\": original_id,  # Keep original ID in payload\n",
    "                    \"structures\": chunk.get(\"structures\", []),\n",
    "                    \"document_path\": chunk.get(\"document_path\", []),\n",
    "                    \"metadata\": chunk.get(\"metadata\", {})\n",
    "                }\n",
    "            )\n",
    "            \n",
    "            # Add to batch\n",
    "            batch_points.append(point)\n",
    "            processed_count += 1\n",
    "            \n",
    "            # If batch is full, upload to Qdrant\n",
    "            if len(batch_points) >= batch_size:\n",
    "                qdrant.upsert(\n",
    "                    collection_name=collection_name,\n",
    "                    points=batch_points,\n",
    "                )\n",
    "                print(f\"Uploaded batch: {processed_count}/{total_chunks} chunks ({error_count} errors so far)\")\n",
    "                batch_points = []\n",
    "                \n",
    "        except Exception as e:\n",
    "            print(f\"Error processing chunk {original_id}: {str(e)}\")\n",
    "            error_count += 1\n",
    "\n",
    "# Upload any remaining points\n",
    "if batch_points:\n",
    "    qdrant.upsert(\n",
    "        collection_name=collection_name,\n",
    "        points=batch_points,\n",
    "    )\n",
    "    print(f\"Uploaded final batch: {processed_count}/{total_chunks} chunks\")\n",
    "\n",
    "# Save ID mapping for reference (optional)\n",
    "try:\n",
    "    with open('id_mapping.json', 'w', encoding='utf-8') as f:\n",
    "        json.dump(id_mapping, f, indent=2)\n",
    "    print(\"✓ Saved ID mapping to id_mapping.json\")\n",
    "except Exception as e:\n",
    "    print(f\"Warning: Could not save ID mapping: {str(e)}\")\n",
    "\n",
    "print(f\"✅ Successfully processed {processed_count}/{total_chunks} chunks into Qdrant collection '{collection_name}'!\")\n",
    "print(f\"Total errors encountered: {error_count}\")"
   ]
  },
  {
   "cell_type": "markdown",
   "id": "9fa01f5b",
   "metadata": {},
   "source": [
    "### 4. Retrieving"
   ]
  },
  {
   "cell_type": "markdown",
   "id": "c868e460",
   "metadata": {},
   "source": [
    "**4.1 Semantic search**"
   ]
  },
  {
   "cell_type": "code",
   "execution_count": 24,
   "id": "2076bd71",
   "metadata": {},
   "outputs": [
    {
     "name": "stdout",
     "output_type": "stream",
     "text": [
      "Pour la retenue à la source au titre des revenus de capitaux mobiliers L’article 17 de la loi n°2020-46 du 23 décembre 2020 portant loi de finances pour l'année 2021 a révisé le régime fiscal des revenus de capitaux mobiliers, et ce, par la généralisation de l'application de la retenue à la source libératoire au taux de 20% à tous les revenus de capitaux mobiliers. Ladite retenue à la source est définitive et non susceptible de déduction ou de restitution, et ce, nonobstant le régime fiscal et le résultat q\n",
      "{'doc_type': 'notes_communes', 'doc_year': 2022, 'doc_title': 'note_commune_01_2022', 'doc_language': 'fr', 'token_count': 247, 'source_url': 'https://jibaya.tn/wp-content/uploads/2024/02/Note-Commune-N%C2%B001-1.pdf', '_id': '2f29e3bf-69cb-9211-4d32-ca2a1d5e5554', '_collection_name': 'Auditron_legal_chunks'}\n",
      "Pour la retenue à la source Suite à l'augmentation du taux de l'impôt sur les sociétés de 15% à 20%, les taux de retenue à la source dus au titre des opérations de cession par les personnes morales non résidentes non établies en Tunisie de biens immobiliers situés en Tunisie ou de droits y afférents, ou de droits sociaux dans les sociétés civiles immobilières, ainsi que de titres ou droits y afférents ou de leur rétrocession, réalisés en Tunisie, ont été adaptés par leur augmentation de: 10% à 15% pour le p\n",
      "{'doc_type': 'notes_communes', 'doc_year': 2025, 'doc_title': 'note_commune_08_2025', 'doc_language': 'ar', 'token_count': 148, 'source_url': 'https://jibaya.tn/wp-content/uploads/2025/03/مذكرة-عامة-عدد-08.pdf', '_id': '7dadec26-02a3-a8ed-56b8-1795852c61a1', '_collection_name': 'Auditron_legal_chunks'}\n",
      "10%(1) au titre des honoraires, commissions, courtages, loyers et rémunérations des activités non commerciales qu’elle qu’en soit l’appellation payés par l’Etat, les collectivités locales, les personnes morales ainsi que les personnes physiques soumises à l’impôt sur le revenu selon le régime réel et les personnes visées au paragraphe II de l’article 22 du présent code. (Modifié Art 69-1 LF 2004-90 du 31/12/2004, Art.45-1 LF 2012-27 du 29/12/2012 et Art 14-5 LF 2020-46 du 23/12/2020). (1) Ce taux s’applique\n",
      "{'doc_type': 'receuil', 'doc_year': 2021, 'doc_title': 'Code_de_limpot_sur_le_revenu_des_personnes_physiques_et_de_limpot_sur_les_societes_2021', 'doc_language': 'fr', 'token_count': 111, 'source_url': 'https://jibaya.tn/wp-content/uploads/2024/01/Code-de-limpot-sur-le-revenu-des-personnes-physiques-et-de-limpot-sur-les-societes-2021.pdf', '_id': 'e819ee75-2b0d-317b-834a-76745f5460d9', '_collection_name': 'Auditron_legal_chunks'}\n"
     ]
    }
   ],
   "source": [
    "from langchain_qdrant import QdrantVectorStore\n",
    "from qdrant_client import QdrantClient\n",
    "from qdrant_client.http.models import SearchParams\n",
    "from langchain_core.embeddings import Embeddings\n",
    "\n",
    "# 3. Create the vector store with LangChain\n",
    "vector_store = QdrantVectorStore(\n",
    "    client=qdrant,\n",
    "    collection_name=\"Auditron_legal_chunks\",  # Your collection name\n",
    "    content_payload_key=\"text\", \n",
    "    embedding=embeddings,\n",
    ")\n",
    "#    search_params=SearchParams(hnsw_ef=128)  # Your search params\n",
    "# 4. Create the retriever from the vector store\n",
    "retriever = vector_store.as_retriever(search_kwargs={\"k\": 3})\n",
    "\n",
    "# 5. Use the retriever\n",
    "query = \"Quel est le nouveau taux unifié de retenue à la source applicable aux loyers, rémunérations non commerciales, honoraires et commissions en Tunisie depuis l'adoption de la loi N° 2020-46 du 23 décembre 2020?\"\n",
    "documents = retriever.invoke(query)\n",
    "\n",
    "# The retrieved documents will include content and metadata\n",
    "for doc in documents:\n",
    "    print(doc.page_content)  # Access the content\n",
    "    print(doc.metadata)      # Access the metadata"
   ]
  },
  {
   "cell_type": "markdown",
   "id": "4b7780c0",
   "metadata": {},
   "source": [
    "### Document re-ranking"
   ]
  },
  {
   "cell_type": "code",
   "execution_count": 22,
   "id": "50a6fd0f",
   "metadata": {},
   "outputs": [],
   "source": [
    "import json\n",
    "from langchain_core.messages import HumanMessage, SystemMessage"
   ]
  },
  {
   "cell_type": "code",
   "execution_count": 55,
   "id": "36d19070",
   "metadata": {},
   "outputs": [
    {
     "data": {
      "text/plain": [
       "{'binary_score': 'non'}"
      ]
     },
     "execution_count": 55,
     "metadata": {},
     "output_type": "execute_result"
    }
   ],
   "source": [
    "import json\n",
    "from langchain_core.messages import HumanMessage, SystemMessage\n",
    "\n",
    "### Retrieval Grader\n",
    "\n",
    "# Doc grader instructions\n",
    "doc_grader_instructions = \"\"\"Vous êtes un modèle chargé d’évaluer la pertinence d’un document récupéré par rapport à une question utilisateur.\n",
    "\n",
    "Si le document contient des mots-clés ou un sens sémantique lié à la question, considérez-le comme pertinent.\"\"\"\n",
    "\n",
    "# Grader prompt\n",
    "doc_grader_prompt = \"\"\"Voici le document récupéré : \\n\\n {document} \\n\\n Voici la question de l'utilisateur : \\n\\n {question}.\n",
    "\n",
    "Évaluez soigneusement et objectivement si le document contient au moins une information pertinente en lien avec la question.\n",
    "\n",
    "Retournez un JSON avec une clé unique, binary_score, qui sera 'oui' ou 'non' pour indiquer si le document contient au moins une information pertinente pour la question.\"\"\"\n",
    "# Test\n",
    "question = \"Quel est le nouveau taux unifié de retenue à la source applicable aux loyers, rémunérations non commerciales, honoraires et commissions en Tunisie depuis l'adoption de la loi N° 2020-46 du 23 décembre 2020?\"\n",
    "\n",
    "docs = retriever.invoke(question)\n",
    "doc_txt = docs[0].page_content\n",
    "\n",
    "doc_grader_prompt_formatted = doc_grader_prompt.format(\n",
    "    document=doc_txt, question=question\n",
    ")\n",
    "result = llm_json_mode.invoke(\n",
    "    [SystemMessage(content=doc_grader_instructions)]\n",
    "    + [HumanMessage(content=doc_grader_prompt_formatted)]\n",
    ")\n",
    "json.loads(result.content)"
   ]
  },
  {
   "cell_type": "code",
   "execution_count": 56,
   "id": "3cad2dc1",
   "metadata": {},
   "outputs": [
    {
     "data": {
      "text/plain": [
       "\"Pour la retenue à la source au titre des revenus de capitaux mobiliers L’article 17 de la loi n°2020-46 du 23 décembre 2020 portant loi de finances pour l'année 2021 a révisé le régime fiscal des revenus de capitaux mobiliers, et ce, par la généralisation de l'application de la retenue à la source libératoire au taux de 20% à tous les revenus de capitaux mobiliers. Ladite retenue à la source est définitive et non susceptible de déduction ou de restitution, et ce, nonobstant le régime fiscal et le résultat q\""
      ]
     },
     "execution_count": 56,
     "metadata": {},
     "output_type": "execute_result"
    }
   ],
   "source": [
    "doc_txt"
   ]
  },
  {
   "cell_type": "code",
   "execution_count": 49,
   "id": "92e749dc",
   "metadata": {},
   "outputs": [
    {
     "data": {
      "text/plain": [
       "{'binary_score': 'oui'}"
      ]
     },
     "execution_count": 49,
     "metadata": {},
     "output_type": "execute_result"
    }
   ],
   "source": [
    "docs = retriever.invoke(question)\n",
    "doc_txt = docs[2].page_content\n",
    "\n",
    "doc_grader_prompt_formatted = doc_grader_prompt.format(\n",
    "    document=doc_txt, question=question\n",
    ")\n",
    "result = llm_json_mode.invoke(\n",
    "    [SystemMessage(content=doc_grader_instructions)]\n",
    "    + [HumanMessage(content=doc_grader_prompt_formatted)]\n",
    ")\n",
    "json.loads(result.content)"
   ]
  },
  {
   "cell_type": "code",
   "execution_count": 50,
   "id": "c21f6ba2",
   "metadata": {},
   "outputs": [
    {
     "data": {
      "text/plain": [
       "'10%(1) au titre des honoraires, commissions, courtages, loyers et rémunérations des activités non commerciales qu’elle qu’en soit l’appellation payés par l’Etat, les collectivités locales, les personnes morales ainsi que les personnes physiques soumises à l’impôt sur le revenu selon le régime réel et les personnes visées au paragraphe II de l’article 22 du présent code. (Modifié Art 69-1 LF 2004-90 du 31/12/2004, Art.45-1 LF 2012-27 du 29/12/2012 et Art 14-5 LF 2020-46 du 23/12/2020). (1) Ce taux s’applique'"
      ]
     },
     "execution_count": 50,
     "metadata": {},
     "output_type": "execute_result"
    }
   ],
   "source": [
    "doc_txt"
   ]
  },
  {
   "cell_type": "markdown",
   "id": "bdbde3f0",
   "metadata": {},
   "source": [
    "**4.2 Implementig Hybrid Search**"
   ]
  },
  {
   "cell_type": "code",
   "execution_count": 25,
   "id": "3572d9e5",
   "metadata": {},
   "outputs": [],
   "source": [
    "from langchain_community.retrievers import BM25Retriever\n",
    "from langchain.retrievers import EnsembleRetriever  # Changed import location\n",
    "from langchain_core.documents import Document\n",
    "\n",
    "# Load all points from Qdrant\n",
    "response = qdrant.scroll(\n",
    "    collection_name=\"Auditron_legal_chunks\",\n",
    "    limit=10_000,  # Increase if needed, Qdrant supports pagination\n",
    "    with_payload=True\n",
    ")\n",
    "\n",
    "# Convert Qdrant points to LangChain Documents\n",
    "all_documents = []\n",
    "for point in response[0]:  # response = (points, next_page_offset)\n",
    "    payload = point.payload\n",
    "    content = payload.get(\"text\", \"\")\n",
    "    metadata = {k: v for k, v in payload.items() if k != \"text\"}\n",
    "    all_documents.append(Document(page_content=content, metadata=metadata))\n",
    "    # Initialize the BM25 retriever\n",
    "bm25_retriever = BM25Retriever.from_documents(all_documents)\n",
    "bm25_retriever.k = 3  # Retrieve top 5 results\n",
    "\n",
    "# Create the ensemble retriever\n",
    "ensemble_retriever = EnsembleRetriever(\n",
    "    retrievers=[bm25_retriever, retriever], \n",
    "    weights=[0.4, 0.6]  # You can adjust these weights based on performance\n",
    ")\n"
   ]
  },
  {
   "cell_type": "code",
   "execution_count": 28,
   "id": "f10e3a61",
   "metadata": {},
   "outputs": [
    {
     "name": "stdout",
     "output_type": "stream",
     "text": [
      "L'impôt sur le revenu dû à raison des traitements, salaires, pensions et rentes viagères y compris la valeur des avantages en nature, donne lieu à une retenue à la source obligatoire à opérer par l'employeur ou le débiteur des rentes ou des pensions établi ou domicilié en Tunisie. Les personnes qui perçoivent des particuliers, des sociétés ou des associations, domiciliés ou établis hors de Tunisie, des traitements, salaires, sont tenues d'opérer elles-mêmes la retenue d'impôt calculée dans les mêmes conditi\n",
      "{'doc_type': 'receuil', 'doc_year': 2022, 'doc_title': 'Code_de_limpot_sur_le_revenu_des_personnes_physiques_et_de_limpot_sur_les_societes_2022', 'doc_language': 'fr', 'token_count': 95, 'source_url': 'https://jibaya.tn/wp-content/uploads/2024/01/Code-de-limpot-sur-le-Revenu-des-Personnes-Physiques-et-de-limpot-sur-les-Societes-2022.pdf', '_id': '7d40070c-1533-c2b6-4241-0b8807df19da', '_collection_name': 'Auditron_legal_chunks'}\n",
      "Il est à noter que, la retenue à la source au taux de 20% ou au taux de 35% s'applique également aux revenus de capitaux mobiliers revenant aux personnes non résidentes non établies en Tunisie, et ce, sous réserve des dispositions des conventions de non double imposition conclues entre la Tunisie et les pays de résidence des bénéficiaires desdits revenus. Toutefois, le taux de la retenue à la source de 20% est relevé à 25% pour les revenus de capitaux mobiliers revenant à des personnes résidentes ou établie\n",
      "{'original_id': 'note_commune_02_2021_chunk_1_6820', 'structures': ['Section 1 (part 5)'], 'document_path': ['Section 1'], 'metadata': {'doc_type': 'notes_communes', 'doc_year': 2021, 'doc_title': 'note_commune_02_2021', 'doc_language': 'fr', 'token_count': 176, 'source_url': 'https://jibaya.tn/wp-content/uploads/2024/02/Note-Commune-N%C2%B02.pdf'}}\n",
      "la réinstauration de la retenue à la source déductible due sur les revenus de capitaux mobiliers L’article 38 de la loi de finances pour l’année 2022 a révisé le régime fiscal des revenus de capitaux mobiliers, et ce, par la suppression de la retenue à la source libératoire, due sur les revenus de capitaux mobiliers au taux de 20% et la réinstauration de la retenue à la source selon le même taux déductible de l’impôt sur le revenu ou de l’impôt sur les sociétés dû par les bénéficiaires desdits revenus ou de\n",
      "{'original_id': 'note_commune_01_2022_chunk_1_7809', 'structures': ['Point 3'], 'document_path': ['Section II'], 'metadata': {'doc_type': 'notes_communes', 'doc_year': 2022, 'doc_title': 'note_commune_01_2022', 'doc_language': 'fr', 'token_count': 97, 'source_url': 'https://jibaya.tn/wp-content/uploads/2024/02/Note-Commune-N%C2%B001-1.pdf'}}\n",
      "Le bénéfice de cette déduction est subordonné à la satisfaction des conditions suivantes : - la tenue d'une comptabilité conforme à la législation comptable des entreprises pour les personnes qui exercent une activité industrielle ou commerciale ou une profession non commerciale telle que définie par le code de l’impôt sur le revenu des personnes physiques et de l’impôt sur les sociétés ; - la production par les bénéficiaires de la déduction, à l'appui de la déclaration de l'impôt sur le revenu des personne\n",
      "{'original_id': 'Code_de_limpot_sur_le_revenu_des_personnes_physiques_et_de_limpot_sur_les_societes_2022_chunk_39_3992', 'structures': ['Point 1 (part 2)'], 'document_path': ['Section III', 'Point 1', 'Point 2', 'Point 3', 'Point 4', 'Point 5', 'Point 19', 'Point 20', 'Point 21', 'Point 1', 'Point 2', 'Point 3', 'Point 4', 'Point 5', 'Point 1', 'Point 2', 'Point 3', 'Point 2023', 'Point 4', 'Point 1', 'Point 2', 'Point 1', 'Point 2', 'Point 3', 'Point 4', 'Point 5', 'Point 1', 'Point 2', 'Point 3', 'Point 4', 'Point 5', 'Point 1', 'Point 2', 'Point 3', 'Point 1', 'Point 2', 'Point 3', 'Point 4', 'Point 1'], 'metadata': {'doc_type': 'receuil', 'doc_year': 2022, 'doc_title': 'Code_de_limpot_sur_le_revenu_des_personnes_physiques_et_de_limpot_sur_les_societes_2022', 'doc_language': 'fr', 'token_count': 256, 'source_url': 'https://jibaya.tn/wp-content/uploads/2024/01/Code-de-limpot-sur-le-Revenu-des-Personnes-Physiques-et-de-limpot-sur-les-Societes-2022.pdf'}}\n"
     ]
    }
   ],
   "source": [
    "# Example query\n",
    "query = \"Quel est le taux de retenue à la source sur les dividendes distribués par des sociétés tunisiennes à des personnes non résidentes, et comment une convention de non-double imposition peut-elle modifier ce taux pour les bénéficiaires d’une telle convention ?\"\n",
    "# Use the ensemble retriever\n",
    "documents = ensemble_retriever.invoke(query)\n",
    "\n",
    "# The retrieved documents will include content and metadata\n",
    "for doc in documents:\n",
    "    print(doc.page_content)  # Access the content\n",
    "    print(doc.metadata)      # Access the metadata"
   ]
  },
  {
   "cell_type": "code",
   "execution_count": 35,
   "id": "45c8e5b6",
   "metadata": {},
   "outputs": [],
   "source": [
    "documents = ensemble_retriever.invoke(query)"
   ]
  },
  {
   "cell_type": "code",
   "execution_count": 36,
   "id": "0dd7df7b",
   "metadata": {},
   "outputs": [
    {
     "data": {
      "text/plain": [
       "[Document(metadata={'doc_type': 'receuil', 'doc_year': 2021, 'doc_title': 'Code_de_limpot_sur_le_revenu_des_personnes_physiques_et_de_limpot_sur_les_societes_2021', 'doc_language': 'fr', 'token_count': 95, 'source_url': 'https://jibaya.tn/wp-content/uploads/2024/01/Code-de-limpot-sur-le-revenu-des-personnes-physiques-et-de-limpot-sur-les-societes-2021.pdf', '_id': '0a351b78-ec32-ee2c-93c2-abdd5e5a1b40', '_collection_name': 'Auditron_legal_chunks'}, page_content=\"L'impôt sur le revenu dû à raison des traitements, salaires, pensions et rentes viagères y compris la valeur des avantages en nature, donne lieu à une retenue à la source obligatoire à opérer par l'employeur ou le débiteur des rentes ou des pensions établi ou domicilié en Tunisie. Les personnes qui perçoivent des particuliers, des sociétés ou des associations, domiciliés ou établis hors de Tunisie, des traitements, salaires, sont tenues d'opérer elles-mêmes la retenue d'impôt calculée dans les mêmes conditi\"),\n",
       " Document(metadata={'doc_type': 'notes_communes', 'doc_year': 2025, 'doc_title': 'note_commune_08_2025', 'doc_language': 'ar', 'token_count': 222, 'source_url': 'https://jibaya.tn/wp-content/uploads/2025/03/مذكرة-عامة-عدد-08.pdf', '_id': 'c273b711-4a5d-90a7-7dcf-6646d60e1e00', '_collection_name': 'Auditron_legal_chunks'}, page_content=\"Pour les retenues à la source L'impôt sur le revenu et l'impôt sur les sociétés font l'objet d'une retenue à la source pour les montants relevant du champ d'application de ladite retenue et payés par les personnes tenues d'effectuer la retenue à la source. Il s'agit notamment de la retenue à la source aux taux suivants: 1% pour les montants égaux ou supérieurs à 1 000 dinars, taxe sur la valeur ajoutée incluse, payés au titre des acquisitions de biens, matériels, équipements et services, dont les bénéfices \"),\n",
       " Document(metadata={'original_id': 'Code_de_limpot_sur_le_revenu_des_personnes_physiques_et_de_limpot_sur_les_societes_2022_chunk_2_5380', 'structures': ['Point 1 (part 1)'], 'document_path': ['Section III', 'Point 1'], 'metadata': {'doc_type': 'receuil', 'doc_year': 2022, 'doc_title': 'Code_de_limpot_sur_le_revenu_des_personnes_physiques_et_de_limpot_sur_les_societes_2022', 'doc_language': 'fr', 'token_count': 254, 'source_url': 'https://jibaya.tn/wp-content/uploads/2024/01/Code-de-limpot-sur-le-Revenu-des-Personnes-Physiques-et-de-limpot-sur-les-Societes-2022.pdf'}}, page_content='Les entreprises totalement exportatrice telles que définies par l’article 11 du code de la taxe sur la valeur ajoutée, sont soumises au régime de la zone franche prévu par le code de douane. Ces entreprises peuvent écouler une partie de leurs productions ou rendre une partie de leurs services sur le marché local à un taux ne dépassant pas 30% de leur chiffre d’affaires à l’export réalisé au cours de l’année civile précédente. Pour les nouvelles entreprises, le taux de 30% est calculé sur la base de leur chi'),\n",
       " Document(metadata={'original_id': 'note_commune_08_2025_chunk_7_4376', 'structures': ['Sous-point b'], 'document_path': ['Section D', 'Sous-point I', 'Sous-point a', 'Sous-point b', 'Sous-point a', 'Sous-point b', 'Sous-point c'], 'metadata': {'doc_type': 'notes_communes', 'doc_year': 2025, 'doc_title': 'note_commune_08_2025', 'doc_language': 'ar', 'token_count': 148, 'source_url': 'https://jibaya.tn/wp-content/uploads/2025/03/مذكرة-عامة-عدد-08.pdf'}}, page_content=\"Pour la retenue à la source Suite à l'augmentation du taux de l'impôt sur les sociétés de 15% à 20%, les taux de retenue à la source dus au titre des opérations de cession par les personnes morales non résidentes non établies en Tunisie de biens immobiliers situés en Tunisie ou de droits y afférents, ou de droits sociaux dans les sociétés civiles immobilières, ainsi que de titres ou droits y afférents ou de leur rétrocession, réalisés en Tunisie, ont été adaptés par leur augmentation de: 10% à 15% pour le p\"),\n",
       " Document(metadata={'original_id': 'note_commune_02_2021_chunk_1_6820', 'structures': ['Section 1 (part 5)'], 'document_path': ['Section 1'], 'metadata': {'doc_type': 'notes_communes', 'doc_year': 2021, 'doc_title': 'note_commune_02_2021', 'doc_language': 'fr', 'token_count': 176, 'source_url': 'https://jibaya.tn/wp-content/uploads/2024/02/Note-Commune-N%C2%B02.pdf'}}, page_content=\"Il est à noter que, la retenue à la source au taux de 20% ou au taux de 35% s'applique également aux revenus de capitaux mobiliers revenant aux personnes non résidentes non établies en Tunisie, et ce, sous réserve des dispositions des conventions de non double imposition conclues entre la Tunisie et les pays de résidence des bénéficiaires desdits revenus. Toutefois, le taux de la retenue à la source de 20% est relevé à 25% pour les revenus de capitaux mobiliers revenant à des personnes résidentes ou établie\")]"
      ]
     },
     "execution_count": 36,
     "metadata": {},
     "output_type": "execute_result"
    }
   ],
   "source": [
    "documents"
   ]
  },
  {
   "cell_type": "markdown",
   "id": "cd3e18a2",
   "metadata": {},
   "source": [
    "### 5. Generation"
   ]
  },
  {
   "cell_type": "code",
   "execution_count": 37,
   "id": "efc2362e",
   "metadata": {},
   "outputs": [
    {
     "name": "stdout",
     "output_type": "stream",
     "text": [
      " Les producteurs d'énergie renouvelable ont droit à la vente excédentaire à la Société Tunisienne de l'Électricité et du Gaz, mais doivent payer une taxe sur les fromages vendus. Les montants déposés dans les comptes pour le projet individuel peuvent être retirés uniquement pour réaliser un nouveau projet ou pour souscrire au capital initial d'entreprise.\n"
     ]
    }
   ],
   "source": [
    "### Generate\n",
    "\n",
    "# Prompt\n",
    "rag_prompt = \"\"\"Vous êtes un assistant pour des tâches de question-réponse.\n",
    "\n",
    "Voici le contexte à utiliser pour répondre à la question :\n",
    "\n",
    "{context}\n",
    "\n",
    "Réfléchissez soigneusement au contexte ci-dessus.\n",
    "\n",
    "Maintenant, examinez la question de l'utilisateur :\n",
    "\n",
    "{question}\n",
    "\n",
    "Fournissez une réponse à cette question en utilisant uniquement le contexte ci-dessus.\n",
    "\n",
    "Utilisez un maximum de trois phrases et gardez la réponse concise.\n",
    "\n",
    "Réponse :\"\"\"\n",
    "\n",
    "# Post-processing\n",
    "def format_docs(docs):\n",
    "    return \"\\n\\n\".join(doc.page_content for doc in docs)\n",
    "\n",
    "\n",
    "# Test\n",
    "query = '''TEJ'''\n",
    "docs = ensemble_retriever.invoke(query)\n",
    "docs_txt = format_docs(docs)\n",
    "rag_prompt_formatted = rag_prompt.format(context=docs_txt, question=query)\n",
    "generation = llm.invoke([HumanMessage(content=rag_prompt_formatted)])\n",
    "print(generation.content)\n"
   ]
  },
  {
   "cell_type": "markdown",
   "id": "b8d682cc",
   "metadata": {},
   "source": [
    "Hallucination grader:"
   ]
  },
  {
   "cell_type": "code",
   "execution_count": 57,
   "id": "0a8372b3",
   "metadata": {},
   "outputs": [
    {
     "data": {
      "text/plain": [
       "{'binary_score': 'oui',\n",
       " 'explanation': \"La réponse de l'élève est correcte car elle indique que le nouveau taux unifié de retenue à la source applicable aux loyers, rémunérations non commerciales, honoraires et commissions en Tunisie est de 10%. Cette information est bien fondée sur les faits fournis qui mentionnent que le taux de retenue à la source a été généralisé à 10% pour ces catégories de revenus par l'article 14-5 LF 2020-46 du 23 décembre 2020.\"}"
      ]
     },
     "execution_count": 57,
     "metadata": {},
     "output_type": "execute_result"
    }
   ],
   "source": [
    "### Hallucination Grader\n",
    "\n",
    "# Hallucination grader instructions\n",
    "hallucination_grader_instructions = \"\"\"\n",
    "\n",
    "Vous êtes un enseignant en train de corriger un quiz.\n",
    "\n",
    "Vous recevrez des FAITS et une RÉPONSE D'ÉLÈVE.\n",
    "\n",
    "Voici les critères de notation à suivre :\n",
    "\n",
    "(1) Assurez-vous que la RÉPONSE DE L'ÉLÈVE est bien fondée sur les FAITS.\n",
    "\n",
    "(2) Assurez-vous que la RÉPONSE DE L'ÉLÈVE ne contient pas d'informations « hallucinées » qui sortent du cadre des FAITS.\n",
    "\n",
    "Note :\n",
    "\n",
    "Une note de oui signifie que la réponse de l'élève respecte tous les critères. C’est la note la plus élevée (meilleure).\n",
    "\n",
    "Une note de non signifie que la réponse de l'élève ne respecte pas tous les critères. C’est la note la plus basse que vous pouvez attribuer.\n",
    "\n",
    "Expliquez votre raisonnement étape par étape afin de garantir la justesse de votre raisonnement et de votre conclusion.\n",
    "\n",
    "Évitez d’énoncer directement la bonne réponse dès le départ.\n",
    "\"\"\"\n",
    "\n",
    "\n",
    "# Grader prompt\n",
    "hallucination_grader_prompt = \"\"\"FAITS : \\n\\n {documents} \\n\\n RÉPONSE DE L'ÉLÈVE : {generation}.\n",
    "\n",
    "Retournez un JSON avec deux clés :  \n",
    "- binary_score : une valeur 'oui' ou 'non' indiquant si la RÉPONSE DE L'ÉLÈVE est bien fondée sur les FAITS.  \n",
    "- explanation : une explication justifiant la note attribuée.\n",
    "\"\"\"\n",
    "\n",
    "# Test using documents and generation from above\n",
    "hallucination_grader_prompt_formatted = hallucination_grader_prompt.format(\n",
    "    documents=docs_txt, generation=generation.content\n",
    ")\n",
    "result = llm_json_mode.invoke(\n",
    "    [SystemMessage(content=hallucination_grader_instructions)]\n",
    "    + [HumanMessage(content=hallucination_grader_prompt_formatted)]\n",
    ")\n",
    "json.loads(result.content)"
   ]
  },
  {
   "cell_type": "markdown",
   "id": "46427e26",
   "metadata": {},
   "source": [
    "Answer grader"
   ]
  },
  {
   "cell_type": "code",
   "execution_count": 60,
   "id": "a430060f",
   "metadata": {},
   "outputs": [
    {
     "data": {
      "text/plain": [
       "{'binary_score': 'oui',\n",
       " 'explanation': \"La réponse de l'élève est correcte car elle indique le nouveau taux unifié de retenue à la source applicable aux loyers, rémunérations non commerciales, honoraires et commissions en Tunisie depuis l'adoption de la loi N° 2020-46 du 23 décembre 2020. Elle respecte tous les critères demandés.\"}"
      ]
     },
     "execution_count": 60,
     "metadata": {},
     "output_type": "execute_result"
    }
   ],
   "source": [
    "### Answer Grader\n",
    "\n",
    "# Answer grader instructions\n",
    "answer_grader_instructions = \"\"\"Vous êtes un enseignant en train de corriger un quiz.\n",
    "\n",
    "Vous recevrez une QUESTION et une RÉPONSE D'ÉLÈVE.\n",
    "\n",
    "Voici les critères de notation à suivre :\n",
    "\n",
    "(1) La RÉPONSE DE L'ÉLÈVE aide à répondre à la QUESTION.\n",
    "\n",
    "Note :\n",
    "\n",
    "Une note de oui signifie que la réponse de l'élève respecte tous les critères. C’est la note la plus élevée (meilleure).\n",
    "\n",
    "L’élève peut recevoir une note de oui même si la réponse contient des informations supplémentaires qui ne sont pas explicitement demandées dans la question.\n",
    "\n",
    "Une note de non signifie que la réponse de l'élève ne respecte pas tous les critères. C’est la note la plus basse que vous pouvez attribuer.\n",
    "\n",
    "Expliquez votre raisonnement étape par étape afin de garantir la justesse de votre raisonnement et de votre conclusion.\n",
    "\n",
    "Évitez d’énoncer directement la bonne réponse dès le départ.\n",
    "\"\"\"\n",
    "\n",
    "# Grader prompt\n",
    "answer_grader_prompt = \"\"\"QUESTION : \\n\\n {question} \\n\\n RÉPONSE DE L'ÉLÈVE : {generation}.\n",
    "\n",
    "Retournez un JSON avec deux clés :  \n",
    "- binary_score : une valeur 'oui' ou 'non' indiquant si la RÉPONSE DE L'ÉLÈVE respecte les critères.  \n",
    "- explanation : une explication justifiant la note attribuée.\n",
    "\"\"\"\n",
    "\n",
    "\n",
    "# Test\n",
    "answer = generation.content\n",
    "\n",
    "# Test using question and generation from above\n",
    "answer_grader_prompt_formatted = answer_grader_prompt.format(\n",
    "    question=question, generation=answer\n",
    ")\n",
    "result = llm_json_mode.invoke(\n",
    "    [SystemMessage(content=answer_grader_instructions)]\n",
    "    + [HumanMessage(content=answer_grader_prompt_formatted)]\n",
    ")\n",
    "json.loads(result.content)"
   ]
  },
  {
   "cell_type": "markdown",
   "id": "462d410f",
   "metadata": {},
   "source": [
    "### 6. ChatAgent with LangGraph"
   ]
  },
  {
   "cell_type": "code",
   "execution_count": null,
   "id": "1f01b167",
   "metadata": {},
   "outputs": [],
   "source": []
  }
 ],
 "metadata": {
  "kernelspec": {
   "display_name": "auditron_venv",
   "language": "python",
   "name": "auditron_venv"
  },
  "language_info": {
   "codemirror_mode": {
    "name": "ipython",
    "version": 3
   },
   "file_extension": ".py",
   "mimetype": "text/x-python",
   "name": "python",
   "nbconvert_exporter": "python",
   "pygments_lexer": "ipython3",
   "version": "3.11.4"
  }
 },
 "nbformat": 4,
 "nbformat_minor": 5
}
