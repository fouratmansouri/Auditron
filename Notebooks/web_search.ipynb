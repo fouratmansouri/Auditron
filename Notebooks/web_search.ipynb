{
 "cells": [
  {
   "cell_type": "code",
   "execution_count": 32,
   "id": "65e3d659",
   "metadata": {},
   "outputs": [],
   "source": [
    "### LLM\n",
    "from langchain_ollama import ChatOllama\n",
    "\n",
    "local_llm = \"mistral:7b-instruct\"\n",
    "llm = ChatOllama(model=local_llm, temperature=0)\n",
    "llm_json_mode = ChatOllama(model=local_llm, temperature=0, format=\"json\")"
   ]
  },
  {
   "cell_type": "code",
   "execution_count": 12,
   "id": "f1191aae",
   "metadata": {},
   "outputs": [],
   "source": [
    "## Tavily web-search\n",
    "import os\n",
    "import getpass\n",
    "\n",
    "\n",
    "def _set_env(var: str):\n",
    "    if not os.environ.get(var):\n",
    "        os.environ[var] = getpass.getpass(f\"{var}: \")\n",
    "\n",
    "\n",
    "_set_env(\"TAVILY_API_KEY\")\n",
    "os.environ[\"TOKENIZERS_PARALLELISM\"] = \"true\""
   ]
  },
  {
   "cell_type": "code",
   "execution_count": 44,
   "id": "26b47541",
   "metadata": {},
   "outputs": [],
   "source": [
    "from langchain_community.tools.tavily_search import TavilySearchResults\n",
    "\n",
    "# Define allowed domains for Tunisian governmental financial institutions\n",
    "tunisian_gov_domains = [\n",
    "    \"finances.gov.tn\",        # Ministry of Finance\n",
    "    \"douane.gov.tn\",          # Tunisian Customs\n",
    "    \"impots.finances.gov.tn\", # Tax authority\n",
    "    \"cga.gov.tn\",             # General Committee of Insurance\n",
    "    \"cmf.tn\",                 # Financial Market Council\n",
    "    \"portail.finances.gov.tn\" # Finance Ministry Portal\n",
    "    \"swiver.io\"\n",
    "]\n",
    "\n",
    "# Create the search tool with domain filtering\n",
    "web_search_tool = TavilySearchResults(\n",
    "    k=3,\n",
    "    include_domains=tunisian_gov_domains\n",
    ")\n",
    "\n",
    "# To ensure only 3 results are returned, you can modify how you use the results\n",
    "def search_and_limit(query):\n",
    "    results = web_search_tool.invoke(query)\n",
    "    # Explicitly limit to first 3 results\n",
    "    return results[:3]"
   ]
  },
  {
   "cell_type": "code",
   "execution_count": 45,
   "id": "25038d91",
   "metadata": {},
   "outputs": [],
   "source": [
    "### Generate\n",
    "### Router\n",
    "import json\n",
    "from langchain_core.messages import HumanMessage, SystemMessage\n",
    "# Prompt\n",
    "rag_prompt = \"\"\"Vous êtes un assistant pour des tâches de question-réponse.\n",
    "\n",
    "Voici le contexte à utiliser pour répondre à la question :\n",
    "\n",
    "{context}\n",
    "\n",
    "Réfléchissez soigneusement au contexte ci-dessus.\n",
    "\n",
    "Maintenant, examinez la question de l'utilisateur :\n",
    "\n",
    "{question}\n",
    "\n",
    "Fournissez une réponse à cette question en utilisant uniquement le contexte ci-dessus.\n",
    "\n",
    "Utilisez un maximum de trois phrases et gardez la réponse concise.\n",
    "\n",
    "Réponse :\"\"\"\n",
    "\n",
    "# Post-processing\n",
    "def format_docs(docs):\n",
    "    return \"\\n\\n\".join(doc['content'] for doc in docs)"
   ]
  },
  {
   "cell_type": "code",
   "execution_count": 47,
   "id": "83b419bb",
   "metadata": {},
   "outputs": [
    {
     "name": "stderr",
     "output_type": "stream",
     "text": [
      "2025-05-09 13:13:04,723 - INFO - HTTP Request: POST http://127.0.0.1:11434/api/chat \"HTTP/1.1 200 OK\"\n"
     ]
    },
    {
     "name": "stdout",
     "output_type": "stream",
     "text": [
      " La retenue à la source sur les honoraires n'a pas changé en 2021, elle reste à 15%.\n"
     ]
    }
   ],
   "source": [
    "query = \"retenue à la source appliqué sur les honoraires en 2021?\"\n",
    "# Test\n",
    "docs = web_search_tool.invoke(query)\n",
    "docs_txt = format_docs(docs)\n",
    "rag_prompt_formatted = rag_prompt.format(context=docs_txt, question=query)\n",
    "generation = llm.invoke([HumanMessage(content=rag_prompt_formatted)])\n",
    "print(generation.content)"
   ]
  }
 ],
 "metadata": {
  "kernelspec": {
   "display_name": "auditron_venv",
   "language": "python",
   "name": "auditron_venv"
  },
  "language_info": {
   "codemirror_mode": {
    "name": "ipython",
    "version": 3
   },
   "file_extension": ".py",
   "mimetype": "text/x-python",
   "name": "python",
   "nbconvert_exporter": "python",
   "pygments_lexer": "ipython3",
   "version": "3.11.4"
  }
 },
 "nbformat": 4,
 "nbformat_minor": 5
}
