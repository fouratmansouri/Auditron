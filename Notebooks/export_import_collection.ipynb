{
 "cells": [
  {
   "cell_type": "markdown",
   "id": "79a5a45e",
   "metadata": {},
   "source": [
    "Python code to save a snapshot of your qdrant collection:"
   ]
  },
  {
   "cell_type": "code",
   "execution_count": 2,
   "id": "e1f9a059",
   "metadata": {},
   "outputs": [],
   "source": [
    "# # Or using the Python client\n",
    "# from qdrant_client import QdrantClient\n",
    "\n",
    "# client = QdrantClient(\"localhost\", port=6333, timeout=120)\n",
    "# snapshot_info = client.create_snapshot(collection_name=\"Auditron_legal_chunks\")\n",
    "# snapshot_path = snapshot_info.name\n",
    "\n"
   ]
  },
  {
   "cell_type": "code",
   "execution_count": 3,
   "id": "9655578e",
   "metadata": {},
   "outputs": [
    {
     "data": {
      "text/plain": [
       "'Auditron_legal_chunks-6730018502940008-2025-05-05-22-13-59.snapshot'"
      ]
     },
     "execution_count": 3,
     "metadata": {},
     "output_type": "execute_result"
    }
   ],
   "source": [
    "# snapshot_path"
   ]
  },
  {
   "cell_type": "markdown",
   "id": "3f5e51f2",
   "metadata": {},
   "source": [
    "Python code to import a snapshot to your qdrant collection:"
   ]
  },
  {
   "cell_type": "code",
   "execution_count": null,
   "id": "8054df2e",
   "metadata": {},
   "outputs": [],
   "source": []
  }
 ],
 "metadata": {
  "kernelspec": {
   "display_name": "auditron_venv",
   "language": "python",
   "name": "auditron_venv"
  },
  "language_info": {
   "codemirror_mode": {
    "name": "ipython",
    "version": 3
   },
   "file_extension": ".py",
   "mimetype": "text/x-python",
   "name": "python",
   "nbconvert_exporter": "python",
   "pygments_lexer": "ipython3",
   "version": "3.11.4"
  }
 },
 "nbformat": 4,
 "nbformat_minor": 5
}
