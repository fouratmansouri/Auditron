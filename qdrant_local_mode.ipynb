{
 "cells": [
  {
   "cell_type": "code",
   "execution_count": null,
   "id": "d54140d5",
   "metadata": {},
   "outputs": [],
   "source": [
    "#!pip install qdrant-client[fastembed]  # Includes local/embedded mode"
   ]
  },
  {
   "cell_type": "code",
   "execution_count": 4,
   "id": "704aae29",
   "metadata": {},
   "outputs": [
    {
     "name": "stdout",
     "output_type": "stream",
     "text": [
      "WARNING:tensorflow:From C:\\Users\\foura\\anaconda3\\Lib\\site-packages\\keras\\src\\losses.py:2976: The name tf.losses.sparse_softmax_cross_entropy is deprecated. Please use tf.compat.v1.losses.sparse_softmax_cross_entropy instead.\n",
      "\n"
     ]
    },
    {
     "name": "stderr",
     "output_type": "stream",
     "text": [
      "No sentence-transformers model found with name dangvantuan/sentence-camembert-large. Creating a new one with mean pooling.\n"
     ]
    }
   ],
   "source": [
    "from langchain_huggingface import HuggingFaceEmbeddings\n",
    "\n",
    "embeddings = HuggingFaceEmbeddings(model_name=\"dangvantuan/sentence-camembert-large\")"
   ]
  },
  {
   "cell_type": "code",
   "execution_count": 3,
   "id": "585930d2",
   "metadata": {},
   "outputs": [
    {
     "name": "stdout",
     "output_type": "stream",
     "text": [
      "Migration complete!\n"
     ]
    }
   ],
   "source": [
    "from qdrant_client import QdrantClient\n",
    "from qdrant_client.http import models\n",
    "from qdrant_client.models import PointStruct, VectorParams, Distance\n",
    "\n",
    "# -------------------------------------------------------------------\n",
    "# 1. Connect to Docker Qdrant (source)\n",
    "# -------------------------------------------------------------------\n",
    "docker_client = QdrantClient(host=\"localhost\", port=6333)  # Your Docker Qdrant\n",
    "\n",
    "# -------------------------------------------------------------------\n",
    "# 2. Connect to Embedded Qdrant (target)\n",
    "# -------------------------------------------------------------------\n",
    "local_client = QdrantClient(path=\"./qdrant_data\")  # Embedded mode\n",
    "\n",
    "# -------------------------------------------------------------------\n",
    "# 3. Recreate Collection Configuration in Embedded Qdrant\n",
    "# -------------------------------------------------------------------\n",
    "local_client.create_collection(\n",
    "    collection_name=\"Auditron_legal_chunks\",\n",
    "    vectors_config=models.VectorParams(size=1024, distance=Distance.COSINE)\n",
    ")\n",
    "\n",
    "# -------------------------------------------------------------------\n",
    "# 4. Transfer All Data in Batches\n",
    "# -------------------------------------------------------------------\n",
    "has_more = True\n",
    "next_offset = None\n",
    "\n",
    "while has_more:\n",
    "    # Get batch from Docker Qdrant\n",
    "    records, next_offset = docker_client.scroll(\n",
    "        collection_name=\"Auditron_legal_chunks\",\n",
    "        limit=100,  # Adjust batch size based on memory\n",
    "        offset=next_offset,\n",
    "        with_payload=True,\n",
    "        with_vectors=True\n",
    "    )\n",
    "    \n",
    "    # Insert into Embedded Qdrant\n",
    "    if records:\n",
    "        local_client.upsert(\n",
    "            collection_name=\"Auditron_legal_chunks\",\n",
    "            points=records\n",
    "        )\n",
    "    \n",
    "    has_more = next_offset is not None\n",
    "\n",
    "print(\"Migration complete!\")"
   ]
  },
  {
   "cell_type": "code",
   "execution_count": 6,
   "id": "e785783f",
   "metadata": {},
   "outputs": [
    {
     "name": "stdout",
     "output_type": "stream",
     "text": [
      "Pour la retenue à la source au titre des revenus de capitaux mobiliers L’article 17 de la loi n°2020-46 du 23 décembre 2020 portant loi de finances pour l'année 2021 a révisé le régime fiscal des revenus de capitaux mobiliers, et ce, par la généralisation de l'application de la retenue à la source libératoire au taux de 20% à tous les revenus de capitaux mobiliers. Ladite retenue à la source est définitive et non susceptible de déduction ou de restitution, et ce, nonobstant le régime fiscal et le résultat q\n",
      "{'doc_type': 'notes_communes', 'doc_year': 2022, 'doc_title': 'note_commune_01_2022', 'doc_language': 'fr', 'token_count': 247, 'source_url': 'https://jibaya.tn/wp-content/uploads/2024/02/Note-Commune-N%C2%B001-1.pdf', '_id': '2f29e3bf-69cb-9211-4d32-ca2a1d5e5554', '_collection_name': 'Auditron_legal_chunks'}\n",
      "Pour la retenue à la source Suite à l'augmentation du taux de l'impôt sur les sociétés de 15% à 20%, les taux de retenue à la source dus au titre des opérations de cession par les personnes morales non résidentes non établies en Tunisie de biens immobiliers situés en Tunisie ou de droits y afférents, ou de droits sociaux dans les sociétés civiles immobilières, ainsi que de titres ou droits y afférents ou de leur rétrocession, réalisés en Tunisie, ont été adaptés par leur augmentation de: 10% à 15% pour le p\n",
      "{'doc_type': 'notes_communes', 'doc_year': 2025, 'doc_title': 'note_commune_08_2025', 'doc_language': 'ar', 'token_count': 148, 'source_url': 'https://jibaya.tn/wp-content/uploads/2025/03/مذكرة-عامة-عدد-08.pdf', '_id': '7dadec26-02a3-a8ed-56b8-1795852c61a1', '_collection_name': 'Auditron_legal_chunks'}\n",
      "10%(1) au titre des honoraires, commissions, courtages, loyers et rémunérations des activités non commerciales qu’elle qu’en soit l’appellation payés par l’Etat, les collectivités locales, les personnes morales ainsi que les personnes physiques soumises à l’impôt sur le revenu selon le régime réel et les personnes visées au paragraphe II de l’article 22 du présent code. (Modifié Art 69-1 LF 2004-90 du 31/12/2004, Art.45-1 LF 2012-27 du 29/12/2012 et Art 14-5 LF 2020-46 du 23/12/2020). (1) Ce taux s’applique\n",
      "{'doc_type': 'receuil', 'doc_year': 2021, 'doc_title': 'Code_de_limpot_sur_le_revenu_des_personnes_physiques_et_de_limpot_sur_les_societes_2021', 'doc_language': 'fr', 'token_count': 111, 'source_url': 'https://jibaya.tn/wp-content/uploads/2024/01/Code-de-limpot-sur-le-revenu-des-personnes-physiques-et-de-limpot-sur-les-societes-2021.pdf', '_id': 'e819ee75-2b0d-317b-834a-76745f5460d9', '_collection_name': 'Auditron_legal_chunks'}\n"
     ]
    }
   ],
   "source": [
    "from langchain_qdrant import QdrantVectorStore\n",
    "vector_store = QdrantVectorStore(\n",
    "    client=local_client,\n",
    "    collection_name=\"Auditron_legal_chunks\",  # Your collection name\n",
    "    content_payload_key=\"text\", \n",
    "    embedding=embeddings,\n",
    ")\n",
    "#    search_params=SearchParams(hnsw_ef=128)  # Your search params\n",
    "# 4. Create the retriever from the vector store\n",
    "retriever = vector_store.as_retriever(search_kwargs={\"k\": 3})\n",
    "\n",
    "# 5. Use the retriever\n",
    "query = \"Quel est le nouveau taux unifié de retenue à la source applicable aux loyers, rémunérations non commerciales, honoraires et commissions en Tunisie depuis l'adoption de la loi N° 2020-46 du 23 décembre 2020?\"\n",
    "documents = retriever.invoke(query)\n",
    "\n",
    "# The retrieved documents will include content and metadata\n",
    "for doc in documents:\n",
    "    print(doc.page_content)  # Access the content\n",
    "    print(doc.metadata)      # Access the metadata"
   ]
  },
  {
   "cell_type": "code",
   "execution_count": null,
   "id": "65d7723c",
   "metadata": {},
   "outputs": [],
   "source": []
  }
 ],
 "metadata": {
  "kernelspec": {
   "display_name": "auditron_venv",
   "language": "python",
   "name": "auditron_venv"
  },
  "language_info": {
   "codemirror_mode": {
    "name": "ipython",
    "version": 3
   },
   "file_extension": ".py",
   "mimetype": "text/x-python",
   "name": "python",
   "nbconvert_exporter": "python",
   "pygments_lexer": "ipython3",
   "version": "3.11.4"
  }
 },
 "nbformat": 4,
 "nbformat_minor": 5
}
